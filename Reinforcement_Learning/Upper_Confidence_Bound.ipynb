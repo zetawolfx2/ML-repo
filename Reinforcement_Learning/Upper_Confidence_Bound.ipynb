{
  "nbformat": 4,
  "nbformat_minor": 0,
  "metadata": {
    "colab": {
      "name": "Upper Confidence Bound.ipynb",
      "provenance": [],
      "collapsed_sections": [],
      "toc_visible": true,
      "include_colab_link": true
    },
    "kernelspec": {
      "name": "python3",
      "display_name": "Python 3"
    }
  },
  "cells": [
    {
      "cell_type": "markdown",
      "metadata": {
        "id": "view-in-github",
        "colab_type": "text"
      },
      "source": [
        "<a href=\"https://colab.research.google.com/github/zetawolfx2/Machine-learning-repo/blob/master/Reinforcement_Learning/Upper_Confidence_Bound.ipynb\" target=\"_parent\"><img src=\"https://colab.research.google.com/assets/colab-badge.svg\" alt=\"Open In Colab\"/></a>"
      ]
    },
    {
      "cell_type": "markdown",
      "metadata": {
        "id": "QJdrJJQUv3-k",
        "colab_type": "text"
      },
      "source": [
        "# Upper Confidence Bound (UCB)"
      ]
    },
    {
      "cell_type": "markdown",
      "metadata": {
        "id": "2XCjepjJwEv-",
        "colab_type": "text"
      },
      "source": [
        "## Importing the libraries"
      ]
    },
    {
      "cell_type": "code",
      "metadata": {
        "id": "8VdAPeWMsVJs",
        "colab_type": "code",
        "colab": {}
      },
      "source": [
        "import numpy as np\n",
        "import matplotlib.pyplot as plt\n",
        "import pandas as pd"
      ],
      "execution_count": 1,
      "outputs": []
    },
    {
      "cell_type": "markdown",
      "metadata": {
        "id": "npqlXjaNwYTv",
        "colab_type": "text"
      },
      "source": [
        "## Importing the dataset"
      ]
    },
    {
      "cell_type": "code",
      "metadata": {
        "id": "VxGysql9sV-i",
        "colab_type": "code",
        "colab": {}
      },
      "source": [
        "dataset = pd.read_csv('Ads_CTR_Optimisation.csv')"
      ],
      "execution_count": 2,
      "outputs": []
    },
    {
      "cell_type": "markdown",
      "metadata": {
        "id": "PaSbots_wfoB",
        "colab_type": "text"
      },
      "source": [
        "## Implementing UCB"
      ]
    },
    {
      "cell_type": "code",
      "metadata": {
        "id": "sLtFanbisWVz",
        "colab_type": "code",
        "colab": {}
      },
      "source": [
        "import math\n",
        "\n",
        "N = 10000\n",
        "d = 10\n",
        "ads_selected = []\n",
        "numbers_of_selections = [0] * d\n",
        "sums_of_rewards = [0] * d\n",
        "total_reward = 0\n",
        "\n",
        "for n in range(0, N): #all the ads will be selected in the first 10 rounds and then nos[i]>0 will only run\n",
        "    ad = 0  \n",
        "    max_upper_bound = 0\n",
        "\n",
        "    for i in range(0, d):\n",
        "        if(numbers_of_selections[i] > 0):\n",
        "            average_reward = sums_of_rewards[i]/numbers_of_selections[i]\n",
        "            delta_i = math.sqrt(3/2 * math.log(n + 1) / numbers_of_selections[i])\n",
        "            upper_bound = average_reward + delta_i #Every upper bound (shift towards end value -> only positive shifts) is calculated \n",
        "        else:\n",
        "            upper_bound = 1e400\n",
        "\n",
        "        if upper_bound > max_upper_bound:\n",
        "            max_upper_bound = upper_bound #the ad with highest upper bound (shift towards end value -> only positive shifts) gets selected\n",
        "            ad = i #we choose that\n",
        "\n",
        "    ads_selected.append(ad) #We keep a track of that\n",
        "    numbers_of_selections[ad] = numbers_of_selections[ad] + 1 #we update the times ad was selected\n",
        "    reward = dataset.values[n, ad] # reward of n at that selected ad\n",
        "    sums_of_rewards[ad] = sums_of_rewards[ad] + reward  #we verify if the shift was bychance or if it matches with data\n",
        "    total_reward = total_reward + reward"
      ],
      "execution_count": 6,
      "outputs": []
    },
    {
      "cell_type": "markdown",
      "metadata": {
        "id": "AXftWcjDwsYj",
        "colab_type": "text"
      },
      "source": [
        "## Visualising the results"
      ]
    },
    {
      "cell_type": "code",
      "metadata": {
        "id": "-EEdHI3bsWxK",
        "colab_type": "code",
        "colab": {
          "base_uri": "https://localhost:8080/",
          "height": 295
        },
        "outputId": "009de19a-d0a8-4939-e233-f938b052f906"
      },
      "source": [
        "plt.hist(ads_selected) # [0, 2, 9 ....] histogram plots how many times all values occured\n",
        "plt.title('Histogram of ads selection')\n",
        "plt.xlabel('Ads')\n",
        "plt.ylabel('Number of times each ad was selected')\n",
        "plt.show()"
      ],
      "execution_count": 8,
      "outputs": [
        {
          "output_type": "display_data",
          "data": {
            "image/png": "[encoded data removed]",
            "text/plain": [
              "<Figure size 432x288 with 1 Axes>"
            ]
          },
          "metadata": {
            "tags": [],
            "needs_background": "light"
          }
        }
      ]
    },
    {
      "cell_type": "markdown",
      "metadata": {
        "id": "Cvb_RhL-BhsC",
        "colab_type": "text"
      },
      "source": [
        "The lesser number of N we put, the more unstable results we get.\n",
        "At N = 500, UCB doesn't predict ad 5 as best ad.\n",
        "Therefore, large sample size is required."
      ]
    }
  ]
}